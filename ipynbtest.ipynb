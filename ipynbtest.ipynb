{
 "cells": [
  {
   "cell_type": "code",
   "execution_count": 2,
   "metadata": {},
   "outputs": [
    {
     "name": "stdout",
     "output_type": "stream",
     "text": [
      "[18.21428571 25.35714286 32.5        53.92857143]\n",
      "[-3.21428571  7.5        25.35714286]\n"
     ]
    }
   ],
   "source": [
    "import classtest\n",
    "import numpy as np\n",
    "\n",
    "X = np.array([[1, 50], [1, 60], [1, 70], [1, 100]])\n",
    "y = np.array([10, 30, 40, 50])\n",
    "\n",
    "clr = classtest.CustomLinearReg()\n",
    "clr.fit(X,y)\n",
    "\n",
    "# checking on training data. \n",
    "print(clr.predict(X))\n",
    "\n",
    "# predicting on new data\n",
    "print(clr.predict(np.array([[1,20],[1,35],[1,60]])))"
   ]
  }
 ],
 "metadata": {
  "kernelspec": {
   "display_name": ".venv",
   "language": "python",
   "name": "python3"
  },
  "language_info": {
   "codemirror_mode": {
    "name": "ipython",
    "version": 3
   },
   "file_extension": ".py",
   "mimetype": "text/x-python",
   "name": "python",
   "nbconvert_exporter": "python",
   "pygments_lexer": "ipython3",
   "version": "3.12.5"
  }
 },
 "nbformat": 4,
 "nbformat_minor": 2
}
