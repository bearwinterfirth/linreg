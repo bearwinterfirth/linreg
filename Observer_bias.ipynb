{
 "cells": [
  {
   "cell_type": "markdown",
   "metadata": {},
   "source": [
    "##### Observer-bias?\n",
    "\n",
    "Vi ska göra en kort undersökning för att se om det finns någon skevhet i materialet utifrån vilken av två observatörer som utfört varje test. Vi har i tidigare modeller inte tagit med observatörskolumnen alls, då detta normalt sett faller under felkällor i en rapport.\n",
    "\n",
    "Vi börjar med att importera nödvändiga bibliotek och datafilen."
   ]
  },
  {
   "cell_type": "code",
   "execution_count": 1,
   "metadata": {},
   "outputs": [],
   "source": [
    "import pandas as pd\n",
    "import numpy as np\n",
    "import scipy.stats as stats\n",
    "import LR\n",
    "\n",
    "data_path = \"Small-diameter-flow.csv\"\n",
    "df = pd.read_csv(data_path, index_col=0)"
   ]
  },
  {
   "cell_type": "markdown",
   "metadata": {},
   "source": [
    "Eftersom vi inte ska ställa upp en helt ny modell, utan bara kontrollera om det finns någon korrelation, behöver vi inte dela upp materialet i y- och X-variabler. Vi behöver inte heller någon kolumn med 1:or."
   ]
  },
  {
   "cell_type": "code",
   "execution_count": 2,
   "metadata": {},
   "outputs": [],
   "source": [
    "X = np.column_stack([df['Flow'], df['Kinematic'], df['Geometric'], df['Inertial'], df['Observer']])"
   ]
  },
  {
   "cell_type": "markdown",
   "metadata": {},
   "source": [
    "I första hand är vi ute efter att se om variabeln _Observer_ har påverkat responsvariabeln _Flow_, så vi kommer helt enkelt att med hjälp av _Pearson-r_ beräkna korrelationen dem emellan:"
   ]
  },
  {
   "cell_type": "code",
   "execution_count": 3,
   "metadata": {},
   "outputs": [
    {
     "name": "stdout",
     "output_type": "stream",
     "text": [
      "Korrelationen mellan 'Observer' och 'Flow' är 0.18148989\n",
      "p-värdet är 0.01050020\n"
     ]
    }
   ],
   "source": [
    "r = stats.pearsonr(X[:, 0], X[:, 4])\n",
    "print(f\"Korrelationen mellan 'Observer' och 'Flow' är {r[0]:.8f}\")\n",
    "print(f\"p-värdet är {r[1]:.8f}\")\n"
   ]
  },
  {
   "cell_type": "markdown",
   "metadata": {},
   "source": [
    "Vi får alltså ett värde på ca 0.18 (på en skala där 0 innebär ingen korrelation alls, och 1 eller -1 är maximal korrelation). Det är att betrakta som lågt, men inte försumbart. Det kan mycket väl vara så att valet av observatör kan ha haft en (liten) inverkan på resultatet. Om vi tittar på p-värdet så ser vi att det är nära 0, men inte \"extremt\" nära. Det finns alltså en liten möjlighet att korrelationen bara beror på slumpen, men det är mycket otroligt.\n",
    "\n",
    "Vi vill nu också se om det finns någon korrelation mellan _Observer_ och de övriga x-variablerna (_Kinematic_, _Geometric_ och _Inertial_). Det framgår inte hur dessa värden har mätts, och om det i så fall finns någon möjlighet för en observatör att påverka dem. Men vi beräknar helt enkelt Pearson-r, och ser om vi kan utläsa något. "
   ]
  },
  {
   "cell_type": "code",
   "execution_count": 4,
   "metadata": {},
   "outputs": [
    {
     "name": "stdout",
     "output_type": "stream",
     "text": [
      "Korrelationen mellan Observer och Kinematic är 0.10322659, p-värdet är 0.14784118\n",
      "Korrelationen mellan Observer och Geometric är 0.17519913, p-värdet är 0.01355720\n",
      "Korrelationen mellan Observer och Inertial är 0.12198107, p-värdet är 0.08690459\n"
     ]
    }
   ],
   "source": [
    "for j in range(1,4):\n",
    "    r = stats.pearsonr(X[:, j], X[:, 4])\n",
    "    print(f\"Korrelationen mellan Observer och {df.columns[j]} är {r[0]:.8f}, p-värdet är {r[1]:.8f}\")\n",
    "    "
   ]
  },
  {
   "cell_type": "markdown",
   "metadata": {},
   "source": [
    "I samtliga fall får vi alltså r-värden som är mycket nära 0, och p-värdena är numera såpass höga att en eventuell korrelation mycket väl kan bero på slumpen, möjligen med undantag för _Observer_ vs. _Geometric_.\n",
    "\n",
    "Sammantaget för hela undersökningen kan man ändå säga att risken att det finns ett observatörsbias är såpass stor att man bör överväga att ta reda på vad den kan bero på, samt kanske göra om åtminstone delar av undersökningen.\n"
   ]
  }
 ],
 "metadata": {
  "kernelspec": {
   "display_name": ".venv",
   "language": "python",
   "name": "python3"
  },
  "language_info": {
   "codemirror_mode": {
    "name": "ipython",
    "version": 3
   },
   "file_extension": ".py",
   "mimetype": "text/x-python",
   "name": "python",
   "nbconvert_exporter": "python",
   "pygments_lexer": "ipython3",
   "version": "3.12.5"
  }
 },
 "nbformat": 4,
 "nbformat_minor": 2
}
