{
 "cells": [
  {
   "cell_type": "markdown",
   "metadata": {},
   "source": [
    "##### Observer-bias?\n",
    "\n",
    "Vi ska göra en kort undersökning för att se om det finns någon skevhet i materialet utifrån vilken av två observatörer som utfört varje test. Vi har i tidigare modeller inte tagit med observatörskolumnen alls, då detta normalt sett faller under felkällor i en rapport.\n",
    "\n",
    "Vi börjar med att importera nödvändiga bibliotek och datafilen."
   ]
  },
  {
   "cell_type": "code",
   "execution_count": 2,
   "metadata": {},
   "outputs": [],
   "source": [
    "import pandas as pd\n",
    "import numpy as np\n",
    "import scipy.stats as stats\n",
    "import LR\n",
    "\n",
    "data_path = \"Small-diameter-flow.csv\"\n",
    "df = pd.read_csv(data_path, index_col=0)"
   ]
  },
  {
   "cell_type": "markdown",
   "metadata": {},
   "source": [
    "Eftersom vi inte ska sätta upp en helt ny modell, utan bara kontrollera om det finns någon korrelation, behöver vi inte dela upp materialet i y- och X-variabler. Vi behöver inte heller någon kolumn med 1:or."
   ]
  },
  {
   "cell_type": "code",
   "execution_count": 4,
   "metadata": {},
   "outputs": [],
   "source": [
    "X = np.column_stack([df['Flow'], df['Kinematic'], df['Geometric'], df['Inertial'], df['Observer']])"
   ]
  },
  {
   "cell_type": "markdown",
   "metadata": {},
   "source": [
    "I första hand är vi ute efter att se om variabeln _Observer_ har påverkat responsvariabeln _Flow_, så vi kommer helt enkelt att med hjälp av _Pearson-r_ beräkna korrelationen dem emellan:"
   ]
  },
  {
   "cell_type": "code",
   "execution_count": 9,
   "metadata": {},
   "outputs": [
    {
     "name": "stdout",
     "output_type": "stream",
     "text": [
      "Korrelationen mellan 'Observer' och 'Flow' är 0.18148989219972547\n",
      "p-värdet är 0.010500197453605356\n"
     ]
    },
    {
     "data": {
      "text/plain": [
       "PearsonRResult(statistic=0.18148989219972547, pvalue=0.010500197453605356)"
      ]
     },
     "execution_count": 9,
     "metadata": {},
     "output_type": "execute_result"
    }
   ],
   "source": [
    "r = stats.pearsonr(X[:, 0], X[:, 4])\n",
    "print(f\"Korrelationen mellan 'Observer' och 'Flow' är {r[0]}\")\n",
    "print(f\"p-värdet är {r[1]}\")\n"
   ]
  },
  {
   "cell_type": "markdown",
   "metadata": {},
   "source": [
    "Vi får alltså ett värde på ca 0.18 (på en skala där 0 innebär ingen korrelation alls, och 1 är maximal korrelation). Det är att betrakta som lågt, men inte försumbart. Det kan mycket väl vara så att valet av observatör kan ha haft en (liten) inverkan på resultatet. Om vi tittar på p-värdet så ser vi att det är nära 0, men inte \"extremt\" nära. Det finns alltså en liten möjlighet att korrelationen bara beror på slumpen, men det är mycket otroligt.\n",
    "\n",
    "Vi vill nu också se om det finns någon korrelation mellan _Observer_ och de övriga x-variablerna (_Kinematic_, _Geometric_ och _Inertial_). Det framgår inte hur dessa värden har mätts, och om det i så fall finns någon möjlighet för en observatör att påverka dem. Men vi beräknar helt enkelt Pearson-r, och ser om vi kan utläsa något. "
   ]
  }
 ],
 "metadata": {
  "kernelspec": {
   "display_name": ".venv",
   "language": "python",
   "name": "python3"
  },
  "language_info": {
   "codemirror_mode": {
    "name": "ipython",
    "version": 3
   },
   "file_extension": ".py",
   "mimetype": "text/x-python",
   "name": "python",
   "nbconvert_exporter": "python",
   "pygments_lexer": "ipython3",
   "version": "3.12.5"
  }
 },
 "nbformat": 4,
 "nbformat_minor": 2
}
