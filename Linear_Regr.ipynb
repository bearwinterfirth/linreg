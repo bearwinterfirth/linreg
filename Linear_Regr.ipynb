{
 "cells": [
  {
   "cell_type": "markdown",
   "metadata": {},
   "source": [
    "### Laboration Statistiska Metoder\n",
    "_Björn Winterfjord_\n",
    "\n",
    "Vi börjar med att importera nödvändiga bibliotek, inklusive filen <span style = \"color:green\">LR.py</span>, där våra funktioner för linjär regression finns. Därefter läser vi in datafilen <span style = \"color:green\">Small-diameter-flow.csv</span>."
   ]
  },
  {
   "cell_type": "code",
   "execution_count": 1,
   "metadata": {},
   "outputs": [],
   "source": [
    "import pandas as pd\n",
    "import numpy as np\n",
    "import scipy.stats as stats\n",
    "import LR\n",
    "\n",
    "data_path = \"Small-diameter-flow.csv\"\n",
    "df = pd.read_csv(data_path, index_col=0)\n"
   ]
  },
  {
   "cell_type": "markdown",
   "metadata": {},
   "source": [
    "Vi låter responsvektorn y vara kolumnen <span style = \"color:green\">Flow</span>, och vi ska undersöka om det finns något samband mellan denna och de tre variablerna <span style = \"color:green\">Kinematic</span>, <span style = \"color:green\">Geometric</span> och <span style = \"color:green\">Inertial</span>. Vi sparar dessa tre kolumner i vår designmatris <span style = \"color:green\">X</span>, tillsammans med en kolumn med 1:or.\n",
    "\n",
    "Vi tar alltså inte med kolumnen <span style = \"color:green\">Observer</span> i nuläget, men kommer senare att underöka om det finns något observatörsbias i experimentet."
   ]
  },
  {
   "cell_type": "code",
   "execution_count": 2,
   "metadata": {},
   "outputs": [],
   "source": [
    "y = df[\"Flow\"]\n",
    "X = np.column_stack([np.ones(y.shape[0]), df['Kinematic'], df['Geometric'], df['Inertial']])"
   ]
  },
  {
   "cell_type": "markdown",
   "metadata": {},
   "source": [
    "Nu utför vi (med hjälp av linjär algebra) vår linjära regression genom att anropa funktionen <span style = \"color:green\">fit</span> från <span style = \"color:green\">LR.py</span>. Vi söker ett linjärt samband på formen\n",
    "$$\n",
    "y=\\beta_0 + \\beta_1 [Kinematic] + \\beta_2 [Geometric] + \\beta_3[Inertial]\n",
    "$$\n",
    "där $\\beta_0$ är interceptet och $\\beta_1$, $\\beta_2$ och $\\beta_3$ är parametrar för de olika x-variablerna. Vi kommer senare att utvärdera rimligheten i denna modell.\n",
    "\n",
    "De olika $\\beta$-värdena lagras i listan _b_."
   ]
  },
  {
   "cell_type": "code",
   "execution_count": 8,
   "metadata": {},
   "outputs": [
    {
     "name": "stdout",
     "output_type": "stream",
     "text": [
      "Vi får β0 = -2.5597931, β1 = 0.8687152, β2 = 3.6104182, β3 = -0.7536877\n"
     ]
    }
   ],
   "source": [
    "\n",
    "m = LR.LinearRegression()\n",
    "b = m.fit(X, y)\n",
    "print(f\"Vi får β0 = {b[0]:.7f}, β1 = {b[1]:.7f}, β2 = {b[2]:.7f}, β3 = {b[3]:.7f}\")\n"
   ]
  },
  {
   "cell_type": "markdown",
   "metadata": {},
   "source": [
    "Det finns en risk att de olika x-variablerna inte är oberoende av varandra, och vi kommer därför senare att göra en _dependency check_ för att utröna om så är fallet. Men vi ska börja med att utvärdera ovanstående modell. Det första vi gör är att ta fram dimensionstalet _d_ (vi vet redan att det kommer att bli 3), samt storleken på stickprovet, _n_. Dessa värden kommer vi att behöve vid flera tillfällen i vår kommande analys."
   ]
  },
  {
   "cell_type": "code",
   "execution_count": 4,
   "metadata": {},
   "outputs": [
    {
     "name": "stdout",
     "output_type": "stream",
     "text": [
      "d = 3, n = 198\n"
     ]
    }
   ],
   "source": [
    "d = m.dimension(b)\n",
    "n = m.sample_size(y)\n",
    "print(f\"d = {d}, n = {n}\")"
   ]
  },
  {
   "cell_type": "markdown",
   "metadata": {},
   "source": [
    "Nu ska vi beräkna _variansen_ i vårt material, och för att kunna göra det behöver vi först beräkna SSE, _sum of square errors_. "
   ]
  },
  {
   "cell_type": "code",
   "execution_count": 7,
   "metadata": {},
   "outputs": [
    {
     "name": "stdout",
     "output_type": "stream",
     "text": [
      "Variansen är 0.0063087\n"
     ]
    }
   ],
   "source": [
    "# X = designmatrisen, y = responsvektorn, b = listan över β-värden\n",
    "# n = sample size, d = dimensionen, var = variansen\n",
    "SSE = m.SSE(y, X, b)\n",
    "var = m.variance(SSE, n, d)\n",
    "print(f\"Variansen är {var:.7f}\")\n"
   ]
  },
  {
   "cell_type": "markdown",
   "metadata": {},
   "source": [
    "Värdet på variansen säger oss inte så mycket, dels eftersom den är dimensionslös, och dels eftersom vi inte har något liknande experiment att jämföra med. Dessutom är både våra x- och y-värden logaritmerade.\n",
    "\n",
    "Nu ska vi beräkna standardavvikelsen $S$ (som ju är roten ur variansen) och variansen bland y-värdena, $S_{yy}$. Därefter kan vi beräkna $SSR$, _sum of square residuals_."
   ]
  },
  {
   "cell_type": "code",
   "execution_count": 9,
   "metadata": {},
   "outputs": [
    {
     "name": "stdout",
     "output_type": "stream",
     "text": [
      "S = 0.0794272, Syy = 425.1441930, SSR = 423.9203080\n"
     ]
    }
   ],
   "source": [
    "S = m.deviation(var)\n",
    "Syy = m.Syy(n, y)\n",
    "SSR = m.SSR(Syy, SSE)\n",
    "\n",
    "print(f\"S = {S:.7f}, Syy = {Syy:.7f}, SSR = {SSR:.7f}\")\n"
   ]
  },
  {
   "cell_type": "markdown",
   "metadata": {},
   "source": [
    "Värdet på standardavvikelsen har samma dimension som x-variablerna, men eftersom dessa var logaritmerade, så blir även S dimensionslös. Det är dock ett slags mått på hur stora avvikelserna är från medlet, i medeltal.\n",
    "\n",
    "SSR och Syy säger oss inte heller så mycket i nuläget, utan behövs mest för att räkna fram de viktiga statistikor vi behöver för att avgöra modellens relevans.\n",
    "\n",
    "Nu ska vi beräkna F-värdet. Ett högt F-värde "
   ]
  },
  {
   "cell_type": "code",
   "execution_count": 15,
   "metadata": {},
   "outputs": [
    {
     "name": "stdout",
     "output_type": "stream",
     "text": [
      "22398.7658956827\n"
     ]
    }
   ],
   "source": [
    "F = m.Fstatistic(SSR, d, var)\n",
    "print(F)\n"
   ]
  },
  {
   "cell_type": "code",
   "execution_count": 16,
   "metadata": {},
   "outputs": [
    {
     "name": "stdout",
     "output_type": "stream",
     "text": [
      "0.9971212473210772\n"
     ]
    }
   ],
   "source": [
    "Rsq = m.Rsq(SSR, Syy)\n",
    "print(Rsq)\n"
   ]
  },
  {
   "cell_type": "code",
   "execution_count": 17,
   "metadata": {},
   "outputs": [
    {
     "name": "stdout",
     "output_type": "stream",
     "text": [
      "PearsonRResult(statistic=0.8631350761065918, pvalue=4.5604633624399433e-60)\n",
      "PearsonRResult(statistic=0.9686707504997812, pvalue=1.588545639896567e-120)\n",
      "PearsonRResult(statistic=0.9183300308547002, pvalue=7.951572627158216e-81)\n"
     ]
    }
   ],
   "source": [
    "# Dependency check\n",
    "\n",
    "print(m.Pearsonr(X, 1, 2))\n",
    "print(m.Pearsonr(X, 1, 3))\n",
    "print(m.Pearsonr(X, 2, 3))"
   ]
  },
  {
   "cell_type": "code",
   "execution_count": 18,
   "metadata": {},
   "outputs": [
    {
     "name": "stdout",
     "output_type": "stream",
     "text": [
      "[[ 0.1786122  -0.01993074 -0.00513088  0.01567684]\n",
      " [-0.01993074  0.00237237  0.00043044 -0.00168614]\n",
      " [-0.00513088  0.00043044  0.00108079 -0.0008474 ]\n",
      " [ 0.01567684 -0.00168614 -0.0008474   0.00154512]]\n"
     ]
    }
   ],
   "source": [
    "# Beräkna varians/kovarians-matris\n",
    "c = m.var_covar(X, var)\n",
    "print(c)"
   ]
  },
  {
   "cell_type": "code",
   "execution_count": 19,
   "metadata": {},
   "outputs": [
    {
     "name": "stdout",
     "output_type": "stream",
     "text": [
      "[-76.25702816954549, 224.5517087789827, 1382.6640099494732, -241.40224898279556]\n"
     ]
    }
   ],
   "source": [
    "# beräkna signifikans för de enskilda β-parametrarna\n",
    "sig=[]\n",
    "for a in range(d+1):\n",
    "    sig.append(m.significance(a,b,c,S))\n",
    "print(sig)\n",
    "    "
   ]
  },
  {
   "cell_type": "code",
   "execution_count": 20,
   "metadata": {},
   "outputs": [
    {
     "name": "stdout",
     "output_type": "stream",
     "text": [
      "1.369442865878956e-146\n",
      "2.279977868333894e-236\n",
      "0.0\n",
      "1.9192830886558436e-242\n"
     ]
    }
   ],
   "source": [
    "for a in range(d+1):\n",
    "    print(m.relevance(sig, a, n, d))\n",
    "    "
   ]
  },
  {
   "cell_type": "code",
   "execution_count": 21,
   "metadata": {},
   "outputs": [
    {
     "name": "stdout",
     "output_type": "stream",
     "text": [
      "1.972267532579456\n"
     ]
    }
   ],
   "source": [
    "# print(stats.t.cdf(0.025, 200))\n",
    "# print(stats.t.ppf(0.95,200))\n",
    "print(stats.t.ppf(1-0.05/2,n-d-1))\n",
    "\n"
   ]
  },
  {
   "cell_type": "code",
   "execution_count": 22,
   "metadata": {},
   "outputs": [
    {
     "name": "stdout",
     "output_type": "stream",
     "text": [
      "Konfidensintervallet för β0 på 95%-nivån är mellan -2.554534655293283 och -2.5650516160478123\n",
      "Konfidensintervallet för β1 på 95%-nivån är mellan 0.8693212249244441 och 0.8681091588053166\n",
      "Konfidensintervallet för β2 på 95%-nivån är mellan 3.610827229208975 och 3.610009129744773\n",
      "Konfidensintervallet för β3 på 95%-nivån är mellan -0.7531986370351633 och -0.754176809399355\n"
     ]
    }
   ],
   "source": [
    "# calculate confidence interval\n",
    "\n",
    "for a in range(d+1):\n",
    "    ci=m.confidence_interval(n,d,var,c,a)\n",
    "    print(f\"Konfidensintervallet för β{a} på 95%-nivån är mellan {b[a]+ci} och {b[a]-ci}\")\n",
    "    "
   ]
  }
 ],
 "metadata": {
  "kernelspec": {
   "display_name": ".venv",
   "language": "python",
   "name": "python3"
  },
  "language_info": {
   "codemirror_mode": {
    "name": "ipython",
    "version": 3
   },
   "file_extension": ".py",
   "mimetype": "text/x-python",
   "name": "python",
   "nbconvert_exporter": "python",
   "pygments_lexer": "ipython3",
   "version": "3.12.5"
  }
 },
 "nbformat": 4,
 "nbformat_minor": 2
}
