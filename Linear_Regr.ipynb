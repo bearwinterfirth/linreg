{
 "cells": [
  {
   "cell_type": "code",
   "execution_count": 1,
   "metadata": {},
   "outputs": [],
   "source": [
    "import pandas as pd\n",
    "import numpy as np\n",
    "import LR\n",
    "import scipy.stats as stats\n",
    "\n",
    "\n",
    "data_path = \"Small-diameter-flow.csv\"\n",
    "df = pd.read_csv(data_path, index_col=0)\n",
    "\n",
    "y = df[\"Flow\"]\n",
    "X = np.column_stack([np.ones(y.shape[0]), df['Kinematic'], df['Geometric'], df['Inertial']])\n",
    "\n",
    "\n"
   ]
  },
  {
   "cell_type": "code",
   "execution_count": 2,
   "metadata": {},
   "outputs": [
    {
     "name": "stdout",
     "output_type": "stream",
     "text": [
      "[-2.55979314  0.86871519  3.61041818 -0.75368772]\n"
     ]
    }
   ],
   "source": [
    "\n",
    "m = LR.LinearRegression()\n",
    "b = m.fit(X, y)\n",
    "print(b)"
   ]
  },
  {
   "cell_type": "code",
   "execution_count": 3,
   "metadata": {},
   "outputs": [
    {
     "name": "stdout",
     "output_type": "stream",
     "text": [
      "3\n"
     ]
    }
   ],
   "source": [
    "d = m.dimension(b)\n",
    "print(d)"
   ]
  },
  {
   "cell_type": "code",
   "execution_count": 4,
   "metadata": {},
   "outputs": [
    {
     "name": "stdout",
     "output_type": "stream",
     "text": [
      "198\n"
     ]
    }
   ],
   "source": [
    "n = m.sample_size(y)\n",
    "print(n)"
   ]
  },
  {
   "cell_type": "code",
   "execution_count": 5,
   "metadata": {},
   "outputs": [
    {
     "name": "stdout",
     "output_type": "stream",
     "text": [
      "1.2238849845911814\n"
     ]
    }
   ],
   "source": [
    "SSE = m.SSE(y, X, b)\n",
    "print(SSE)\n"
   ]
  },
  {
   "cell_type": "code",
   "execution_count": 6,
   "metadata": {},
   "outputs": [
    {
     "name": "stdout",
     "output_type": "stream",
     "text": [
      "0.00630868548758341\n"
     ]
    }
   ],
   "source": [
    "var = m.variance(SSE, n, d)\n",
    "print(var)\n"
   ]
  },
  {
   "cell_type": "code",
   "execution_count": 7,
   "metadata": {},
   "outputs": [
    {
     "name": "stdout",
     "output_type": "stream",
     "text": [
      "0.07942723391622933\n"
     ]
    }
   ],
   "source": [
    "S = m.deviation(var)\n",
    "print(S)"
   ]
  },
  {
   "cell_type": "code",
   "execution_count": 8,
   "metadata": {},
   "outputs": [
    {
     "name": "stdout",
     "output_type": "stream",
     "text": [
      "425.14419302220614\n"
     ]
    }
   ],
   "source": [
    "Syy = m.Syy(n, y)\n",
    "print(Syy)\n"
   ]
  },
  {
   "cell_type": "code",
   "execution_count": 9,
   "metadata": {},
   "outputs": [
    {
     "name": "stdout",
     "output_type": "stream",
     "text": [
      "423.920308037615\n"
     ]
    }
   ],
   "source": [
    "SSR = m.SSR(Syy, SSE)\n",
    "print(SSR)\n"
   ]
  },
  {
   "cell_type": "code",
   "execution_count": 10,
   "metadata": {},
   "outputs": [
    {
     "name": "stdout",
     "output_type": "stream",
     "text": [
      "22398.7658956827\n"
     ]
    }
   ],
   "source": [
    "F = m.Fstatistic(SSR, d, var)\n",
    "print(F)\n"
   ]
  },
  {
   "cell_type": "code",
   "execution_count": 11,
   "metadata": {},
   "outputs": [
    {
     "name": "stdout",
     "output_type": "stream",
     "text": [
      "0.9971212473210772\n"
     ]
    }
   ],
   "source": [
    "Rsq = m.Rsq(SSR, Syy)\n",
    "print(Rsq)\n"
   ]
  },
  {
   "cell_type": "code",
   "execution_count": 12,
   "metadata": {},
   "outputs": [
    {
     "name": "stdout",
     "output_type": "stream",
     "text": [
      "PearsonRResult(statistic=0.8631350761065918, pvalue=4.5604633624399433e-60)\n",
      "PearsonRResult(statistic=0.9686707504997812, pvalue=1.588545639896567e-120)\n",
      "PearsonRResult(statistic=0.9183300308547002, pvalue=7.951572627158216e-81)\n"
     ]
    }
   ],
   "source": [
    "# Dependency check\n",
    "\n",
    "print(m.Pearsonr(X, 1, 2))\n",
    "print(m.Pearsonr(X, 1, 3))\n",
    "print(m.Pearsonr(X, 2, 3))"
   ]
  },
  {
   "cell_type": "code",
   "execution_count": 13,
   "metadata": {},
   "outputs": [
    {
     "name": "stdout",
     "output_type": "stream",
     "text": [
      "[[ 0.1786122  -0.01993074 -0.00513088  0.01567684]\n",
      " [-0.01993074  0.00237237  0.00043044 -0.00168614]\n",
      " [-0.00513088  0.00043044  0.00108079 -0.0008474 ]\n",
      " [ 0.01567684 -0.00168614 -0.0008474   0.00154512]]\n"
     ]
    }
   ],
   "source": [
    "# Beräkna varians/kovarians-matris\n",
    "c = m.var_covar(X, var)\n",
    "print(c)"
   ]
  },
  {
   "cell_type": "code",
   "execution_count": 14,
   "metadata": {},
   "outputs": [
    {
     "name": "stdout",
     "output_type": "stream",
     "text": [
      "[-76.25702816954549, 224.5517087789827, 1382.6640099494732, -241.40224898279556]\n"
     ]
    }
   ],
   "source": [
    "# beräkna signifikans för de enskilda β-parametrarna\n",
    "sig=[]\n",
    "for a in range(d+1):\n",
    "    sig.append(m.significance(a,b,c,S))\n",
    "print(sig)\n",
    "    "
   ]
  },
  {
   "cell_type": "code",
   "execution_count": 15,
   "metadata": {},
   "outputs": [
    {
     "name": "stdout",
     "output_type": "stream",
     "text": [
      "1.369442865878956e-146\n",
      "2.279977868333894e-236\n",
      "0.0\n",
      "1.9192830886558436e-242\n"
     ]
    }
   ],
   "source": [
    "for a in range(d+1):\n",
    "    print(m.relevance(sig, a, n, d))\n",
    "    "
   ]
  },
  {
   "cell_type": "code",
   "execution_count": 19,
   "metadata": {},
   "outputs": [
    {
     "name": "stdout",
     "output_type": "stream",
     "text": [
      "1.972267532579456\n"
     ]
    }
   ],
   "source": [
    "# print(stats.t.cdf(0.025, 200))\n",
    "# print(stats.t.ppf(0.95,200))\n",
    "print(stats.t.ppf(1-0.05/2,n-d-1))\n",
    "\n"
   ]
  },
  {
   "cell_type": "code",
   "execution_count": 17,
   "metadata": {},
   "outputs": [
    {
     "name": "stdout",
     "output_type": "stream",
     "text": [
      "Konfidensintervallet för β0 på 95%-nivån är mellan -2.554534655293283 och -2.5650516160478123\n",
      "Konfidensintervallet för β1 på 95%-nivån är mellan 0.8693212249244441 och 0.8681091588053166\n",
      "Konfidensintervallet för β2 på 95%-nivån är mellan 3.610827229208975 och 3.610009129744773\n",
      "Konfidensintervallet för β3 på 95%-nivån är mellan -0.7531986370351633 och -0.754176809399355\n"
     ]
    }
   ],
   "source": [
    "# calculate confidence interval\n",
    "\n",
    "for a in range(d+1):\n",
    "    ci=m.confidence_interval(n,d,var,c,a)\n",
    "    print(f\"Konfidensintervallet för β{a} på 95%-nivån är mellan {b[a]+ci} och {b[a]-ci}\")\n",
    "    "
   ]
  }
 ],
 "metadata": {
  "kernelspec": {
   "display_name": ".venv",
   "language": "python",
   "name": "python3"
  },
  "language_info": {
   "codemirror_mode": {
    "name": "ipython",
    "version": 3
   },
   "file_extension": ".py",
   "mimetype": "text/x-python",
   "name": "python",
   "nbconvert_exporter": "python",
   "pygments_lexer": "ipython3",
   "version": "3.12.5"
  }
 },
 "nbformat": 4,
 "nbformat_minor": 2
}
