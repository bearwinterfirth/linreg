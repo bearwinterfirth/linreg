{
 "cells": [
  {
   "cell_type": "markdown",
   "metadata": {},
   "source": [
    "#### Linjär regression på en variabel\n",
    "\n",
    "Vi kommer här att titta på endast en av x-variablerna (_Geometric_), då vi tidigare konstaterat att det finns hög grad av beroende mellan de olika x-variablerna, och därför blir den förra modellen otillförlitlig.\n",
    "\n",
    "Många av beräkningarna blir likadana som i första exemplet, och vi utför dem därför lite \"fler åt gången\"."
   ]
  },
  {
   "cell_type": "code",
   "execution_count": 10,
   "metadata": {},
   "outputs": [],
   "source": [
    "import pandas as pd\n",
    "import numpy as np\n",
    "import scipy.stats as stats\n",
    "import matplotlib.pyplot as plt\n",
    "import LR\n",
    "\n",
    "data_path = \"Small-diameter-flow.csv\"\n",
    "df = pd.read_csv(data_path, index_col=0)\n",
    "\n",
    "y = df[\"Flow\"]\n",
    "X = np.column_stack([np.ones(y.shape[0]), df['Geometric']])\n"
   ]
  },
  {
   "cell_type": "markdown",
   "metadata": {},
   "source": [
    "Nu söker vi alltså ett linjärt samband på formen\n",
    "$$\n",
    "y=\\beta_0 + \\beta_1 [Geometric]\n",
    "$$\n"
   ]
  },
  {
   "cell_type": "code",
   "execution_count": 11,
   "metadata": {},
   "outputs": [
    {
     "name": "stdout",
     "output_type": "stream",
     "text": [
      "Vi får β0 = 5.3323804, β1 = 3.2400047\n"
     ]
    }
   ],
   "source": [
    "\n",
    "m = LR.LinearRegression(X, y)\n",
    "b = m.fit()\n",
    "print(f\"Vi får β0 = {b[0]:.7f}, β1 = {b[1]:.7f}\")\n"
   ]
  },
  {
   "cell_type": "markdown",
   "metadata": {},
   "source": [
    "Vi noterar speciellt att $\\beta_1$, alltså lutningsparametern för _Geometric_, blir 3.24, att jämföra med 3.61 från första försöket. (Det går förstås inte att jämföra rakt av, många andra faktorer spelar in, men kan ändå ge en fingervisning om hur lika eller olika modellerna blir.)"
   ]
  },
  {
   "cell_type": "code",
   "execution_count": 12,
   "metadata": {},
   "outputs": [
    {
     "name": "stdout",
     "output_type": "stream",
     "text": [
      "d = 1, n = 198\n",
      "Variansen är 0.0182068\n",
      "S = 0.1349327, Syy = 425.1441930, SSR = 421.5756511\n"
     ]
    }
   ],
   "source": [
    "d = m.dimension(b)\n",
    "n = m.sample_size(y)\n",
    "print(f\"d = {d}, n = {n}\")\n",
    "\n",
    "SSE = m.SSE(y, X, b)\n",
    "var = m.variance(SSE, n, d)\n",
    "print(f\"Variansen är {var:.7f}\")\n",
    "\n",
    "S = m.deviation(var)\n",
    "Syy = m.Syy(n, y)\n",
    "SSR = m.SSR(Syy, SSE)\n",
    "print(f\"S = {S:.7f}, Syy = {Syy:.7f}, SSR = {SSR:.7f}\")"
   ]
  },
  {
   "cell_type": "markdown",
   "metadata": {},
   "source": [
    "Nu testar vi att plotta _Geometric_ vs. _Flow_, tillsammans med vår modell, $\\hat{y} = 5.33 + 3.24x$, för att se hur bra den verkar."
   ]
  },
  {
   "cell_type": "code",
   "execution_count": 13,
   "metadata": {},
   "outputs": [
    {
     "data": {
      "image/png": "[encoded data removed]",
      "text/plain": [
       "<Figure size 640x480 with 1 Axes>"
      ]
     },
     "metadata": {},
     "output_type": "display_data"
    }
   ],
   "source": [
    "plt.scatter(X[:,1],y)\n",
    "x = np.linspace(-7,-5)\n",
    "\n",
    "y_hat=b[0]+b[1]*x\n",
    "plt.plot(x, y_hat, c=\"red\");"
   ]
  },
  {
   "cell_type": "markdown",
   "metadata": {},
   "source": [
    "Vår modell (den röda linjen) ser ju i högsta grad relevant ut! Nu ska vi beräkna de andra statistikorna:"
   ]
  },
  {
   "cell_type": "code",
   "execution_count": 14,
   "metadata": {},
   "outputs": [
    {
     "name": "stdout",
     "output_type": "stream",
     "text": [
      "F = 23154.78688791649\n",
      "Rsq = 0.9916062785832102\n",
      "Relevanstest-värdet för β0 är 1.788362326582224e-274\n",
      "Relevanstest-värdet för β1 är 0.0\n"
     ]
    }
   ],
   "source": [
    "F = m.Fstatistic(SSR, d, var)\n",
    "print(f\"F = {F}\")\n",
    "\n",
    "Rsq = m.Rsq(SSR, Syy)\n",
    "print(f\"Rsq = {Rsq}\")\n",
    "\n",
    "c = m.var_covar(X, var)\n",
    "\n",
    "sig=[]\n",
    "for a in range(d+1):\n",
    "    sig.append(m.significance(a,b,c,S))\n",
    "for a in range(d+1):\n",
    "    print(f\"Relevanstest-värdet för β{a} är {m.relevance(sig, a, n, d)}\")\n"
   ]
  },
  {
   "cell_type": "markdown",
   "metadata": {},
   "source": [
    "Återigen ett F-värde långt över 1, och ett $R^2$-värde nära 1, skvallrar om att modellen är tillförlitlig. Det är mer eller mindre klart att variansen inte beror på slumpen, utan kan förklaras av vår modell. Relevansvärdena (från det tvåsidiga relevanstestet) på i princip 0, gör också att vi kan dra slutsatsen att modellen är klart relevant.\n",
    "\n",
    "Nu ska vi beräkna konfidensintervallen för $\\beta_0$ och $\\beta_1$, på samma sätt som i förra uppgiften:"
   ]
  },
  {
   "cell_type": "code",
   "execution_count": 17,
   "metadata": {},
   "outputs": [
    {
     "name": "stdout",
     "output_type": "stream",
     "text": [
      "t-värdet är 1.9721412216594967\n",
      "Konfidensintervallet för β0 på 95%-nivån är mellan 5.32825099 och 5.33650978\n",
      "Konfidensintervallet för β1 på 95%-nivån är mellan 3.23924017 och 3.24076924\n"
     ]
    }
   ],
   "source": [
    "print(f\"t-värdet är {stats.t.ppf(1-0.05/2,n-d-1)}\")\n",
    "for a in range(d+1):\n",
    "    ci=m.confidence_interval(n,d,var,c,a)\n",
    "    print(f\"Konfidensintervallet för β{a} på 95%-nivån är mellan {b[a]-ci:.8f} och {b[a]+ci:.8f}\")\n"
   ]
  },
  {
   "cell_type": "markdown",
   "metadata": {},
   "source": [
    "$t_{\\alpha/2}$-värdet på ca 1,97 motsvarar alltså ungefär 2 standardavvikelser, så vi kan ge ovanstående mått på β-parametrarna med 95% säkerhet.\n",
    "\n",
    "Så sammanfattningsvis: Om _Geometric_ hade varit den enda x-variabeln, så hade vi kunnat vara väldigt säkra på att vi tagit fram en bra modell. Men eftersom vi vet att det även fanns andra x-variabler som kunde påverka resultatet, så bör detta test betraktas mer som en \"lägeskoll\"; en modell (bland många andra) som kan testas i jakt på den allra bästa modellen. Något som dock är lite för tid- och utrymmeskrävande just nu."
   ]
  }
 ],
 "metadata": {
  "kernelspec": {
   "display_name": ".venv",
   "language": "python",
   "name": "python3"
  },
  "language_info": {
   "codemirror_mode": {
    "name": "ipython",
    "version": 3
   },
   "file_extension": ".py",
   "mimetype": "text/x-python",
   "name": "python",
   "nbconvert_exporter": "python",
   "pygments_lexer": "ipython3",
   "version": "3.12.5"
  }
 },
 "nbformat": 4,
 "nbformat_minor": 2
}
